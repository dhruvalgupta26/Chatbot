{
 "cells": [
  {
   "cell_type": "code",
   "execution_count": 5,
   "id": "82481c83-2f7f-44dd-af1e-23e734ae52c6",
   "metadata": {},
   "outputs": [],
   "source": [
    "\n",
    "\n",
    "import json\n",
    "import pickle \n",
    "import numpy as np\n",
    "\n",
    "from keras.models import Sequential\n",
    "from keras.layers import Dense, Activation, Dropout\n",
    "from keras.optimizers import SGD\n",
    "\n",
    "import random"
   ]
  },
  {
   "cell_type": "code",
   "execution_count": 7,
   "id": "a851e4f9-34c0-4b4f-bf9c-5ec07f055f70",
   "metadata": {},
   "outputs": [],
   "source": [
    "# load intent.json\n",
    "data_file = open('Intent.json').read()\n",
    "intents = json.loads(data_file)"
   ]
  },
  {
   "cell_type": "code",
   "execution_count": 10,
   "id": "0a055adf-3812-40dc-95aa-b2c97c2f1b71",
   "metadata": {},
   "outputs": [
    {
     "name": "stdout",
     "output_type": "stream",
     "text": [
      "[['hi'], ['hi'], ['hola'], ['hello'], ['hello'], ['hya'], ['hya'], ['adam', 'user'], ['adam'], ['adam'], ['adam'], ['bella', 'user'], ['bella'], ['bella'], ['bella'], ['?'], ['?', 'hi'], ['?', 'hello'], ['?', 'hola'], ['?'], ['?', 'hope', 'well'], ['?', 'hello', 'hope', 'well'], ['!', 'adam', 'good', 'thanks', 'user'], ['!', 'adam', 'good', 'thanks'], ['!', 'adam', 'good', 'thanks'], ['!', 'adam', 'good', 'thanks'], ['!', 'bella', 'great', 'thanks', 'user'], ['!', 'bella', 'great', 'thanks'], ['!', 'bella', 'great', 'thanks'], ['!', 'bella', 'great', 'thanks'], ['?', 'name'], ['?', 'call'], ['?', 'think'], ['?', 'think'], ['?', 'talking'], ['?', 'call', 'name'], ['name', 'tell'], ['?', 'name'], ['?', 'call', 'could'], ['?', 'call'], ['?', 'call', 'friend'], ['?'], ['?', 'name', 'tell'], ['?', 'name', 'real'], ['?', 'name', 'please', 'real'], [\"'s\", '?', 'name', 'real'], ['?', 'name', 'real', 'tell'], ['?', 'name', 'real'], ['?', 'name', 'please', 'real'], ['?', 'name', 'please', 'real'], ['?', 'time'], [\"'s\", '?', 'time'], ['?', 'know', 'time'], ['?', 'know', 'time'], ['?', 'tell', 'time'], ['?', 'tell', 'time'], ['time'], ['ok', 'thank'], ['ok', 'thanks'], ['ok'], ['thanks'], ['thank'], [\"'s\", 'helpful'], ['talking'], ['talking', 'wa'], ['talking'], [\"n't\", 'wa'], ['meant', \"n't\", 'wa'], ['communicating', \"n't\", 'wa'], [\"n't\", 'speaking', 'wa'], ['saying', 'understand'], ['understand'], ['know', 'saying'], ['get'], ['comprendo'], ['know', 'mean'], ['quiet'], ['shut'], ['stop', 'talking'], ['enough', 'talking'], ['please', 'quiet'], ['quiet'], ['shhh'], ['fuck'], ['fuck'], ['twat'], ['shit'], ['bye'], ['adios'], ['later', 'see'], ['goodbye'], [',', 'bye', 'thanks'], [',', 'goodbye', 'help', 'thanks'], [',', 'bye', 'thank'], [',', 'goodbye', 'thank'], ['goodbye', 'thanks'], ['bye', 'good', 'thanks'], ['?', 'see'], ['?', 'see'], ['?', 'anyone', 'camera', 'see'], ['?', 'anyone', 'camera', 'see'], ['identify'], ['please'], ['clever'], ['clever', 'girl'], ['intelligent'], ['girl', 'intelligent'], ['genious'], ['clever', 'girl'], ['genious'], ['bored', 'gossip'], ['gossip', 'got'], ['gossip', 'hear', 'want'], ['gossip', 'tell'], ['gossip'], ['gossip', 'tell'], ['joke', 'tell'], ['joke', 'know'], ['joke'], ['give', 'joke'], ['laugh', 'make'], ['cheering', 'need'], ['bay', 'door', 'open', 'pod'], ['bay', 'door', 'open', 'pod'], ['bay', 'door', 'open', 'pod'], ['bay', 'door', 'open', 'please', 'pod'], ['bay', 'door', 'open', 'please', 'pod'], ['bay', 'door', 'open', 'please', 'pod'], ['bay', 'door', 'pod'], [], [], ['bay', 'door', 'open', 'pod'], ['bay', 'door', 'open', 'pod'], ['well'], ['surely'], ['tell'], ['prove', 'self-aware'], ['aware', 'prove', 'self'], ['conscious', 'prove'], ['please', 'prove', 'self-aware'], ['aware', 'please', 'prove', 'self'], ['conscious', 'please', 'prove'], ['conscious', 'prove']]\n"
     ]
    },
    {
     "name": "stderr",
     "output_type": "stream",
     "text": [
      "[nltk_data] Downloading package punkt to /home/asmita/nltk_data...\n",
      "[nltk_data]   Package punkt is already up-to-date!\n",
      "[nltk_data] Downloading package wordnet to /home/asmita/nltk_data...\n",
      "[nltk_data]   Package wordnet is already up-to-date!\n",
      "[nltk_data] Downloading package stopwords to /home/asmita/nltk_data...\n",
      "[nltk_data]   Package stopwords is already up-to-date!\n"
     ]
    }
   ],
   "source": [
    "# pre-process Data\n",
    "import nltk\n",
    "from nltk.stem import WordNetLemmatizer\n",
    "from nltk.corpus import stopwords\n",
    "\n",
    "# Download nltk resources\n",
    "nltk.download('punkt')\n",
    "nltk.download('wordnet')\n",
    "nltk.download('stopwords')\n",
    "\n",
    "# create a lemmatizer\n",
    "lemmatizer = WordNetLemmatizer()\n",
    "stop_words = set(stopwords.words('english'))\n",
    "\n",
    "# tokenize ,lemmatize and stopwords removal\n",
    "\n",
    "tokenized_data = []\n",
    "for intent in intents['intents']:\n",
    "    for text in intent['text']:\n",
    "        # tokenize each word\n",
    "        tokens = nltk.word_tokenize(text.lower()) # tokenize and convert to lowercase\n",
    "        lemmatized_tokens = [lemmatizer.lemmatize(token) for token in tokens] # lemmatize tokens\n",
    "        filtered_tokens = [token for token in lemmatized_tokens if token not in stop_words] # Remove stop words\n",
    "        tokenized_data.append(filtered_tokens)\n",
    "\n",
    "# Remove duplicate words \n",
    "for i in range(len(tokenized_data)):\n",
    "    tokenized_data[i] = sorted(list(set(tokenized_data[i])))\n",
    "\n",
    "print(tokenized_data)\n",
    "    "
   ]
  },
  {
   "cell_type": "code",
   "execution_count": null,
   "id": "00f972af-35f7-47c0-a0b0-37ec6f599e82",
   "metadata": {},
   "outputs": [],
   "source": [
    "# training and testing data\n",
    "training = []\n",
    "output_empty = 0 * len(tokenized_data)\n",
    "\n",
    "for doc in documents:\n",
    "    bag = []\n",
    "    "
   ]
  }
 ],
 "metadata": {
  "kernelspec": {
   "display_name": "Python 3 (ipykernel)",
   "language": "python",
   "name": "python3"
  },
  "language_info": {
   "codemirror_mode": {
    "name": "ipython",
    "version": 3
   },
   "file_extension": ".py",
   "mimetype": "text/x-python",
   "name": "python",
   "nbconvert_exporter": "python",
   "pygments_lexer": "ipython3",
   "version": "3.10.12"
  }
 },
 "nbformat": 4,
 "nbformat_minor": 5
}
