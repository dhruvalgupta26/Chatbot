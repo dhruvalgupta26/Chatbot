{
 "cells": [
  {
   "cell_type": "code",
   "execution_count": 4,
   "id": "c7aad812-3cf4-4f01-a313-fa5f9b3e2b0f",
   "metadata": {},
   "outputs": [
    {
     "data": {
      "text/plain": [
       "(array([2, 3, 5, 8, 9]), array([1, 1, 1, 1, 1]))"
      ]
     },
     "execution_count": 4,
     "metadata": {},
     "output_type": "execute_result"
    }
   ],
   "source": [
    "import numpy as np\n",
    "\n",
    "## returns an array with unique elements all sorted\n",
    "arr = np.array([9,8,5,3,2])\n",
    "np.unique(arr,return_counts=True)"
   ]
  },
  {
   "cell_type": "code",
   "execution_count": 6,
   "id": "d175b725-880b-4ba0-826e-748a38cb2a92",
   "metadata": {},
   "outputs": [
    {
     "data": {
      "text/plain": [
       "5.4"
      ]
     },
     "execution_count": 6,
     "metadata": {},
     "output_type": "execute_result"
    }
   ],
   "source": [
    "np.mean(arr)"
   ]
  },
  {
   "cell_type": "code",
   "execution_count": 9,
   "id": "c5b7b8c8-0c08-4dac-a0c3-79504415dedb",
   "metadata": {},
   "outputs": [
    {
     "data": {
      "text/html": [
       "<div>\n",
       "<style scoped>\n",
       "    .dataframe tbody tr th:only-of-type {\n",
       "        vertical-align: middle;\n",
       "    }\n",
       "\n",
       "    .dataframe tbody tr th {\n",
       "        vertical-align: top;\n",
       "    }\n",
       "\n",
       "    .dataframe thead th {\n",
       "        text-align: right;\n",
       "    }\n",
       "</style>\n",
       "<table border=\"1\" class=\"dataframe\">\n",
       "  <thead>\n",
       "    <tr style=\"text-align: right;\">\n",
       "      <th></th>\n",
       "      <th>Alphabet</th>\n",
       "      <th>Values</th>\n",
       "    </tr>\n",
       "  </thead>\n",
       "  <tbody>\n",
       "    <tr>\n",
       "      <th>0</th>\n",
       "      <td>A</td>\n",
       "      <td>20</td>\n",
       "    </tr>\n",
       "    <tr>\n",
       "      <th>1</th>\n",
       "      <td>B</td>\n",
       "      <td>30</td>\n",
       "    </tr>\n",
       "    <tr>\n",
       "      <th>2</th>\n",
       "      <td>C</td>\n",
       "      <td>40</td>\n",
       "    </tr>\n",
       "  </tbody>\n",
       "</table>\n",
       "</div>"
      ],
      "text/plain": [
       "  Alphabet  Values\n",
       "0        A      20\n",
       "1        B      30\n",
       "2        C      40"
      ]
     },
     "execution_count": 9,
     "metadata": {},
     "output_type": "execute_result"
    }
   ],
   "source": [
    "import pandas as pd\n",
    "\n",
    "df = pd.DataFrame([\n",
    "    ['A', 20],\n",
    "    ['B', 30],\n",
    "    ['C', 40]],columns=['Alphabet','Values'])\n",
    "df"
   ]
  },
  {
   "cell_type": "code",
   "execution_count": 11,
   "id": "bb71f0f0-36ab-4814-875f-a6f01bc38795",
   "metadata": {},
   "outputs": [],
   "source": [
    "df['count'] = np.repeat(100,df.shape[0])"
   ]
  },
  {
   "cell_type": "code",
   "execution_count": 12,
   "id": "7ef7b75d-52bd-4396-b7a7-43f7ab856ca3",
   "metadata": {},
   "outputs": [
    {
     "data": {
      "text/html": [
       "<div>\n",
       "<style scoped>\n",
       "    .dataframe tbody tr th:only-of-type {\n",
       "        vertical-align: middle;\n",
       "    }\n",
       "\n",
       "    .dataframe tbody tr th {\n",
       "        vertical-align: top;\n",
       "    }\n",
       "\n",
       "    .dataframe thead th {\n",
       "        text-align: right;\n",
       "    }\n",
       "</style>\n",
       "<table border=\"1\" class=\"dataframe\">\n",
       "  <thead>\n",
       "    <tr style=\"text-align: right;\">\n",
       "      <th></th>\n",
       "      <th>Alphabet</th>\n",
       "      <th>Values</th>\n",
       "      <th>count</th>\n",
       "    </tr>\n",
       "  </thead>\n",
       "  <tbody>\n",
       "    <tr>\n",
       "      <th>0</th>\n",
       "      <td>A</td>\n",
       "      <td>20</td>\n",
       "      <td>100</td>\n",
       "    </tr>\n",
       "    <tr>\n",
       "      <th>1</th>\n",
       "      <td>B</td>\n",
       "      <td>30</td>\n",
       "      <td>100</td>\n",
       "    </tr>\n",
       "    <tr>\n",
       "      <th>2</th>\n",
       "      <td>C</td>\n",
       "      <td>40</td>\n",
       "      <td>100</td>\n",
       "    </tr>\n",
       "  </tbody>\n",
       "</table>\n",
       "</div>"
      ],
      "text/plain": [
       "  Alphabet  Values  count\n",
       "0        A      20    100\n",
       "1        B      30    100\n",
       "2        C      40    100"
      ]
     },
     "execution_count": 12,
     "metadata": {},
     "output_type": "execute_result"
    }
   ],
   "source": [
    "df"
   ]
  },
  {
   "cell_type": "code",
   "execution_count": 13,
   "id": "4ce97e44-6769-48d9-bca5-9cf46530326e",
   "metadata": {},
   "outputs": [
    {
     "data": {
      "text/plain": [
       "(3, 3)"
      ]
     },
     "execution_count": 13,
     "metadata": {},
     "output_type": "execute_result"
    }
   ],
   "source": [
    "df.shape"
   ]
  },
  {
   "cell_type": "raw",
   "id": "80789409-1103-4d05-965f-6b78be19209b",
   "metadata": {},
   "source": [
    "## Sure, here's an exercise to help you learn the NumPy module in detail:\n",
    "\n",
    "1. **Creating NumPy Arrays**:\n",
    "   - Create a 1D array of integers from 1 to 10.\n",
    "   - Create a 2D array of random floating-point numbers with shape (3, 5).\n",
    "   - Create a 3D array of zeros with shape (2, 3, 4).\n",
    "\n",
    "2. **Array Manipulation**:\n",
    "   - Reshape a 1D array of 12 elements into a 3x4 2D array.\n",
    "   - Transpose a 2D array.\n",
    "   - Flatten a 3D array into a 1D array.\n",
    "\n",
    "3. **Array Indexing and Slicing**:\n",
    "   - Access the 5th element of a 1D array.\n",
    "   - Slice a 2D array to get the middle row and the first two columns.\n",
    "   - Select every other element from the last dimension of a 3D array.\n",
    "\n",
    "4. **Array Operations**:\n",
    "   - Add two 1D arrays of the same length.\n",
    "   - Multiply a 2D array by a scalar value.\n",
    "   - Compute the element-wise sine of a 2D array.\n",
    "\n",
    "5. **Statistical Functions**:\n",
    "   - Calculate the mean, median, and standard deviation of a 1D array.\n",
    "   - Find the maximum and minimum values in a 2D array.\n",
    "   - Compute the sum of all elements in a 3D array.\n",
    "\n",
    "6. **Boolean Indexing and Masking**:\n",
    "   - Create a 1D array of boolean values and use it to select elements from another 1D array.\n",
    "   - Generate a 2D array of random integers and use boolean indexing to select elements greater than a certain value.\n",
    "   - Create a 3D array of random integers and use masking to set all negative values to zero.\n",
    "\n",
    "7. **Concatenation and Splitting**:\n",
    "   - Concatenate two 1D arrays along the axis.\n",
    "   - Split a 2D array into three equal parts along the column axis.\n",
    "   - Concatenate three 3D arrays along the depth axis.\n",
    "\n",
    "8. **Advanced Techniques**:\n",
    "   - Generate a 2D array of random integers and sort the elements of each row.\n",
    "   - Compute the dot product of two 2D arrays.\n",
    "   - Perform an element-wise multiplication of two 3D arrays.\n",
    "\n",
    "For each of these questions, provide the expected input, the expected output, and a brief explanation of the concepts and functions used. You can also include sample code snippets to demonstrate the solutions."
   ]
  },
  {
   "cell_type": "code",
   "execution_count": 14,
   "id": "d9f453c2-a09f-4b86-b903-191278ad8edf",
   "metadata": {},
   "outputs": [],
   "source": [
    "a = np.arange(1,11)"
   ]
  },
  {
   "cell_type": "code",
   "execution_count": 15,
   "id": "df0086b6-7d9a-4310-906d-b5c275d891d1",
   "metadata": {},
   "outputs": [
    {
     "data": {
      "text/plain": [
       "array([ 1,  2,  3,  4,  5,  6,  7,  8,  9, 10])"
      ]
     },
     "execution_count": 15,
     "metadata": {},
     "output_type": "execute_result"
    }
   ],
   "source": [
    "a"
   ]
  },
  {
   "cell_type": "code",
   "execution_count": 16,
   "id": "726d1c77-b783-4857-b863-8dd897bd8e69",
   "metadata": {},
   "outputs": [
    {
     "data": {
      "text/plain": [
       "array([[0.68577831, 0.25994815, 0.07345557, 0.92191845, 0.59313051],\n",
       "       [0.88468287, 0.27405385, 0.43487354, 0.11657478, 0.6053257 ],\n",
       "       [0.73648889, 0.1811808 , 0.5029264 , 0.13671065, 0.33526199]])"
      ]
     },
     "execution_count": 16,
     "metadata": {},
     "output_type": "execute_result"
    }
   ],
   "source": [
    "np.random.random((3,5))"
   ]
  },
  {
   "cell_type": "code",
   "execution_count": 31,
   "id": "596c643b-ab71-451a-909d-dfaef74f3c62",
   "metadata": {},
   "outputs": [
    {
     "data": {
      "text/plain": [
       "array([[[0., 0., 0., 0.],\n",
       "        [0., 0., 0., 0.],\n",
       "        [0., 0., 0., 0.]],\n",
       "\n",
       "       [[0., 0., 0., 0.],\n",
       "        [0., 0., 0., 0.],\n",
       "        [0., 0., 0., 0.]]])"
      ]
     },
     "execution_count": 31,
     "metadata": {},
     "output_type": "execute_result"
    }
   ],
   "source": [
    "c = np.zeros((2,3,4))\n",
    "c"
   ]
  },
  {
   "cell_type": "code",
   "execution_count": 19,
   "id": "6684b690-a415-48af-99b8-64d1f57580b1",
   "metadata": {},
   "outputs": [
    {
     "data": {
      "text/plain": [
       "(2, 3, 4)"
      ]
     },
     "execution_count": 19,
     "metadata": {},
     "output_type": "execute_result"
    }
   ],
   "source": [
    "c.shape"
   ]
  },
  {
   "cell_type": "code",
   "execution_count": 21,
   "id": "f9505ba0-ff8d-4a99-9056-cfc6abd292d2",
   "metadata": {},
   "outputs": [
    {
     "data": {
      "text/plain": [
       "array([ 1,  2,  3,  4,  5,  6,  7,  8,  9, 10, 11, 12])"
      ]
     },
     "execution_count": 21,
     "metadata": {},
     "output_type": "execute_result"
    }
   ],
   "source": [
    "x = np.arange(1,13)\n",
    "x"
   ]
  },
  {
   "cell_type": "code",
   "execution_count": 23,
   "id": "0f956a0a-8cb0-45fc-83b8-79a87a01b6d9",
   "metadata": {},
   "outputs": [
    {
     "data": {
      "text/plain": [
       "array([[ 1,  2,  3,  4],\n",
       "       [ 5,  6,  7,  8],\n",
       "       [ 9, 10, 11, 12]])"
      ]
     },
     "execution_count": 23,
     "metadata": {},
     "output_type": "execute_result"
    }
   ],
   "source": [
    "x = np.reshape(x,(3,4))\n",
    "x"
   ]
  },
  {
   "cell_type": "code",
   "execution_count": 24,
   "id": "fca5a818-a868-4be9-a44d-a4502aa9b863",
   "metadata": {},
   "outputs": [],
   "source": [
    "x = x.T"
   ]
  },
  {
   "cell_type": "code",
   "execution_count": 25,
   "id": "3c22075f-8781-43e8-bd16-ba5113e915a3",
   "metadata": {},
   "outputs": [
    {
     "data": {
      "text/plain": [
       "array([[ 1,  5,  9],\n",
       "       [ 2,  6, 10],\n",
       "       [ 3,  7, 11],\n",
       "       [ 4,  8, 12]])"
      ]
     },
     "execution_count": 25,
     "metadata": {},
     "output_type": "execute_result"
    }
   ],
   "source": [
    "x"
   ]
  },
  {
   "cell_type": "code",
   "execution_count": 32,
   "id": "db18e1c2-de99-4b78-9999-431a33550654",
   "metadata": {},
   "outputs": [
    {
     "data": {
      "text/plain": [
       "array([[[0., 0., 0., 0.],\n",
       "        [0., 0., 0., 0.],\n",
       "        [0., 0., 0., 0.]],\n",
       "\n",
       "       [[0., 0., 0., 0.],\n",
       "        [0., 0., 0., 0.],\n",
       "        [0., 0., 0., 0.]]])"
      ]
     },
     "execution_count": 32,
     "metadata": {},
     "output_type": "execute_result"
    }
   ],
   "source": [
    "# c = np.reshape(-1)\n",
    "c"
   ]
  },
  {
   "cell_type": "code",
   "execution_count": 34,
   "id": "7b53a0dd-23b7-4127-8c1d-413ced5b77e2",
   "metadata": {},
   "outputs": [
    {
     "data": {
      "text/plain": [
       "array([0., 0., 0., 0., 0., 0., 0., 0., 0., 0., 0., 0., 0., 0., 0., 0., 0.,\n",
       "       0., 0., 0., 0., 0., 0., 0.])"
      ]
     },
     "execution_count": 34,
     "metadata": {},
     "output_type": "execute_result"
    }
   ],
   "source": [
    "c = np.reshape(c,-1)\n",
    "c"
   ]
  },
  {
   "cell_type": "code",
   "execution_count": 36,
   "id": "1c1b3804-cf80-46a6-af4e-23b42daf2978",
   "metadata": {},
   "outputs": [
    {
     "data": {
      "text/plain": [
       "array([ 1.,  2.,  3.,  4.,  5.,  6.,  7.,  8.,  9., 10.])"
      ]
     },
     "execution_count": 36,
     "metadata": {},
     "output_type": "execute_result"
    }
   ],
   "source": [
    "y = np.linspace(1,10,10)\n",
    "y"
   ]
  },
  {
   "cell_type": "code",
   "execution_count": 38,
   "id": "e5a2f66b-4f02-420a-b60f-bab3940e0f40",
   "metadata": {},
   "outputs": [
    {
     "data": {
      "text/plain": [
       "5.0"
      ]
     },
     "execution_count": 38,
     "metadata": {},
     "output_type": "execute_result"
    }
   ],
   "source": [
    "y[4]"
   ]
  },
  {
   "cell_type": "code",
   "execution_count": 39,
   "id": "215e4769-bba3-40d6-80ea-0bd64490674d",
   "metadata": {},
   "outputs": [
    {
     "data": {
      "text/plain": [
       "array([[1, 2, 3],\n",
       "       [4, 5, 6],\n",
       "       [7, 8, 9]])"
      ]
     },
     "execution_count": 39,
     "metadata": {},
     "output_type": "execute_result"
    }
   ],
   "source": [
    "z = np.arange(1,10).reshape(3,3)\n",
    "z"
   ]
  },
  {
   "cell_type": "code",
   "execution_count": 40,
   "id": "9dabfb53-5240-46d1-a834-9d918e7e9dd8",
   "metadata": {},
   "outputs": [
    {
     "data": {
      "text/plain": [
       "array([4, 5])"
      ]
     },
     "execution_count": 40,
     "metadata": {},
     "output_type": "execute_result"
    }
   ],
   "source": [
    "z[1,:2]"
   ]
  },
  {
   "cell_type": "code",
   "execution_count": 43,
   "id": "ea465fa1-eb2a-44fc-b007-9fd595261e3f",
   "metadata": {},
   "outputs": [
    {
     "data": {
      "text/plain": [
       "array([[[ 8, 13,  8,  7],\n",
       "        [ 8,  4, 10,  3],\n",
       "        [11,  8,  7,  1]],\n",
       "\n",
       "       [[12, 12, 11, 14],\n",
       "        [ 4,  8,  1,  7],\n",
       "        [13, 10, 13,  7]]])"
      ]
     },
     "execution_count": 43,
     "metadata": {},
     "output_type": "execute_result"
    }
   ],
   "source": [
    "d3 = np.random.randint(1,15,size=(2,3,4))\n",
    "d3"
   ]
  },
  {
   "cell_type": "code",
   "execution_count": 45,
   "id": "39deb64b-fe8e-43b7-9aec-eaa7c1fec384",
   "metadata": {},
   "outputs": [
    {
     "data": {
      "text/plain": [
       "array([[[ 8,  8],\n",
       "        [ 8, 10],\n",
       "        [11,  7]],\n",
       "\n",
       "       [[12, 11],\n",
       "        [ 4,  1],\n",
       "        [13, 13]]])"
      ]
     },
     "execution_count": 45,
     "metadata": {},
     "output_type": "execute_result"
    }
   ],
   "source": [
    "d3[:,:,::2]"
   ]
  },
  {
   "cell_type": "code",
   "execution_count": 46,
   "id": "874ea2f4-4c0d-42ba-acd2-010ee890b8da",
   "metadata": {},
   "outputs": [
    {
     "data": {
      "text/plain": [
       "array([[[ 8, 10, 10, 15],\n",
       "        [13,  5, 13, 11],\n",
       "        [ 3, 15, 13, 15]],\n",
       "\n",
       "       [[15, 13,  5,  2],\n",
       "        [15,  5,  6,  4],\n",
       "        [15, 15, 11,  9]]])"
      ]
     },
     "execution_count": 46,
     "metadata": {},
     "output_type": "execute_result"
    }
   ],
   "source": [
    "d32 = np.random.randint(2,16, size=(2,3,4))\n",
    "d32"
   ]
  },
  {
   "cell_type": "code",
   "execution_count": 47,
   "id": "7d5b2291-2470-4fc5-a982-8cf1ff4a2cd7",
   "metadata": {},
   "outputs": [
    {
     "data": {
      "text/plain": [
       "2029"
      ]
     },
     "execution_count": 47,
     "metadata": {},
     "output_type": "execute_result"
    }
   ],
   "source": [
    "np.einsum('ijk,ijk',d3,d32)"
   ]
  },
  {
   "cell_type": "code",
   "execution_count": 48,
   "id": "202491a3-af73-4db5-b243-8da95e6e92b2",
   "metadata": {},
   "outputs": [
    {
     "data": {
      "text/plain": [
       "array([[[ 64, 130,  80, 105],\n",
       "        [104,  20, 130,  33],\n",
       "        [ 33, 120,  91,  15]],\n",
       "\n",
       "       [[180, 156,  55,  28],\n",
       "        [ 60,  40,   6,  28],\n",
       "        [195, 150, 143,  63]]])"
      ]
     },
     "execution_count": 48,
     "metadata": {},
     "output_type": "execute_result"
    }
   ],
   "source": [
    "np.einsum('ijk,ijk -> ijk',d3,d32)"
   ]
  },
  {
   "cell_type": "code",
   "execution_count": 53,
   "id": "657cffb8-8779-4df1-b095-447cec2f9484",
   "metadata": {
    "scrolled": true
   },
   "outputs": [
    {
     "data": {
      "image/png": "[encoded data removed]",
      "text/plain": [
       "<Figure size 640x480 with 1 Axes>"
      ]
     },
     "metadata": {},
     "output_type": "display_data"
    }
   ],
   "source": [
    "import numpy as np\n",
    "import pandas as pd\n",
    "import matplotlib.pyplot as plt\n",
    "fig, ax = plt.subplots()\n",
    "# Hide axes without removing it:\n",
    "fig.patch.set_visible(False)\n",
    "ax.axis('off')\n",
    "ax.axis('tight')\n",
    "# Create a numpy random array in a pandas dataframe with 10 rows, 4 columns:\n",
    "df = pd.DataFrame(np.random.randn(10, 4), columns=list('ABCD'))\n",
    "plt.title(\"Pandas Dataframe Plot\")\n",
    "ax.table(cellText=df.values, colLabels=df.columns, loc='center')\n",
    "fig.tight_layout()\n",
    "plt.show()"
   ]
  },
  {
   "cell_type": "code",
   "execution_count": null,
   "id": "db07911a-d0b9-41f2-aeed-47c5c61c1d4c",
   "metadata": {},
   "outputs": [],
   "source": []
  }
 ],
 "metadata": {
  "kernelspec": {
   "display_name": "Python 3 (ipykernel)",
   "language": "python",
   "name": "python3"
  },
  "language_info": {
   "codemirror_mode": {
    "name": "ipython",
    "version": 3
   },
   "file_extension": ".py",
   "mimetype": "text/x-python",
   "name": "python",
   "nbconvert_exporter": "python",
   "pygments_lexer": "ipython3",
   "version": "3.10.12"
  }
 },
 "nbformat": 4,
 "nbformat_minor": 5
}
