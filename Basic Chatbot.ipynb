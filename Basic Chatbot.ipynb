{
 "cells": [
  {
   "cell_type": "code",
   "execution_count": 3,
   "id": "82481c83-2f7f-44dd-af1e-23e734ae52c6",
   "metadata": {},
   "outputs": [
    {
     "name": "stderr",
     "output_type": "stream",
     "text": [
      "2024-04-12 16:00:35.567791: I external/local_tsl/tsl/cuda/cudart_stub.cc:32] Could not find cuda drivers on your machine, GPU will not be used.\n",
      "2024-04-12 16:00:35.570662: I external/local_tsl/tsl/cuda/cudart_stub.cc:32] Could not find cuda drivers on your machine, GPU will not be used.\n",
      "2024-04-12 16:00:35.609500: I tensorflow/core/platform/cpu_feature_guard.cc:210] This TensorFlow binary is optimized to use available CPU instructions in performance-critical operations.\n",
      "To enable the following instructions: AVX2 FMA, in other operations, rebuild TensorFlow with the appropriate compiler flags.\n",
      "2024-04-12 16:00:36.300424: W tensorflow/compiler/tf2tensorrt/utils/py_utils.cc:38] TF-TRT Warning: Could not find TensorRT\n"
     ]
    }
   ],
   "source": [
    "\n",
    "\n",
    "import json\n",
    "import pickle \n",
    "import numpy as np\n",
    "\n",
    "from keras.models import Sequential\n",
    "from keras.layers import Dense, Activation, Dropout\n",
    "from keras.optimizers import SGD\n",
    "\n",
    "import random"
   ]
  },
  {
   "cell_type": "code",
   "execution_count": 4,
   "id": "a851e4f9-34c0-4b4f-bf9c-5ec07f055f70",
   "metadata": {},
   "outputs": [],
   "source": [
    "# load intent.json\n",
    "data_file = open('Intent.json').read()\n",
    "intents = json.loads(data_file)"
   ]
  },
  {
   "cell_type": "code",
   "execution_count": 8,
   "id": "0a055adf-3812-40dc-95aa-b2c97c2f1b71",
   "metadata": {},
   "outputs": [
    {
     "name": "stderr",
     "output_type": "stream",
     "text": [
      "[nltk_data] Downloading package punkt to /home/asmita/nltk_data...\n",
      "[nltk_data]   Package punkt is already up-to-date!\n",
      "[nltk_data] Downloading package wordnet to /home/asmita/nltk_data...\n",
      "[nltk_data]   Package wordnet is already up-to-date!\n",
      "[nltk_data] Downloading package stopwords to /home/asmita/nltk_data...\n",
      "[nltk_data]   Package stopwords is already up-to-date!\n"
     ]
    },
    {
     "name": "stdout",
     "output_type": "stream",
     "text": [
      "[['hi'], ['hi'], ['hola'], ['hello'], ['hello'], ['hya'], ['hya'], ['adam', 'user'], ['adam'], ['adam'], ['adam'], ['bella', 'user'], ['bella'], ['bella'], ['bella'], ['?'], ['?', 'hi'], ['?', 'hello'], ['?', 'hola'], ['?'], ['?', 'hope', 'well'], ['?', 'hello', 'hope', 'well'], ['!', 'adam', 'good', 'thanks', 'user'], ['!', 'adam', 'good', 'thanks'], ['!', 'adam', 'good', 'thanks'], ['!', 'adam', 'good', 'thanks'], ['!', 'bella', 'great', 'thanks', 'user'], ['!', 'bella', 'great', 'thanks'], ['!', 'bella', 'great', 'thanks'], ['!', 'bella', 'great', 'thanks'], ['?', 'name'], ['?', 'call'], ['?', 'think'], ['?', 'think'], ['?', 'talking'], ['?', 'call', 'name'], ['name', 'tell'], ['?', 'name'], ['?', 'call', 'could'], ['?', 'call'], ['?', 'call', 'friend'], ['?'], ['?', 'name', 'tell'], ['?', 'name', 'real'], ['?', 'name', 'please', 'real'], [\"'s\", '?', 'name', 'real'], ['?', 'name', 'real', 'tell'], ['?', 'name', 'real'], ['?', 'name', 'please', 'real'], ['?', 'name', 'please', 'real'], ['?', 'time'], [\"'s\", '?', 'time'], ['?', 'know', 'time'], ['?', 'know', 'time'], ['?', 'tell', 'time'], ['?', 'tell', 'time'], ['time'], ['ok', 'thank'], ['ok', 'thanks'], ['ok'], ['thanks'], ['thank'], [\"'s\", 'helpful'], ['talking'], ['talking', 'wa'], ['talking'], [\"n't\", 'wa'], ['meant', \"n't\", 'wa'], ['communicating', \"n't\", 'wa'], [\"n't\", 'speaking', 'wa'], ['saying', 'understand'], ['understand'], ['know', 'saying'], ['get'], ['comprendo'], ['know', 'mean'], ['quiet'], ['shut'], ['stop', 'talking'], ['enough', 'talking'], ['please', 'quiet'], ['quiet'], ['shhh'], ['fuck'], ['fuck'], ['twat'], ['shit'], ['bye'], ['adios'], ['later', 'see'], ['goodbye'], [',', 'bye', 'thanks'], [',', 'goodbye', 'help', 'thanks'], [',', 'bye', 'thank'], [',', 'goodbye', 'thank'], ['goodbye', 'thanks'], ['bye', 'good', 'thanks'], ['?', 'see'], ['?', 'see'], ['?', 'anyone', 'camera', 'see'], ['?', 'anyone', 'camera', 'see'], ['identify'], ['please'], ['clever'], ['clever', 'girl'], ['intelligent'], ['girl', 'intelligent'], ['genious'], ['clever', 'girl'], ['genious'], ['bored', 'gossip'], ['gossip', 'got'], ['gossip', 'hear', 'want'], ['gossip', 'tell'], ['gossip'], ['gossip', 'tell'], ['joke', 'tell'], ['joke', 'know'], ['joke'], ['give', 'joke'], ['laugh', 'make'], ['cheering', 'need'], ['bay', 'door', 'open', 'pod'], ['bay', 'door', 'open', 'pod'], ['bay', 'door', 'open', 'pod'], ['bay', 'door', 'open', 'please', 'pod'], ['bay', 'door', 'open', 'please', 'pod'], ['bay', 'door', 'open', 'please', 'pod'], ['bay', 'door', 'pod'], [], [], ['bay', 'door', 'open', 'pod'], ['bay', 'door', 'open', 'pod'], ['well'], ['surely'], ['tell'], ['prove', 'self-aware'], ['aware', 'prove', 'self'], ['conscious', 'prove'], ['please', 'prove', 'self-aware'], ['aware', 'please', 'prove', 'self'], ['conscious', 'please', 'prove'], ['conscious', 'prove']]\n"
     ]
    }
   ],
   "source": [
    "# pre-process Data\n",
    "import nltk\n",
    "from nltk.stem import WordNetLemmatizer\n",
    "from nltk.corpus import stopwords\n",
    "\n",
    "# Download nltk resources\n",
    "nltk.download('punkt')\n",
    "nltk.download('wordnet')\n",
    "nltk.download('stopwords')\n",
    "\n",
    "#initialize \n",
    "words = []\n",
    "classes = []\n",
    "document = []\n",
    "ignore_words = ['?', '!']\n",
    "\n",
    "# create a lemmatizer\n",
    "lemmatizer = WordNetLemmatizer()\n",
    "stop_words = set(stopwords.words('english'))\n",
    "\n",
    "# tokenize ,lemmatize and stopwords removal\n",
    "\n",
    "tokenized_data = []\n",
    "for intent in intents['intents']:\n",
    "    for text in intent['text']:\n",
    "        # tokenize each word\n",
    "        tokens = nltk.word_tokenize(text.lower()) # tokenize and convert to lowercase\n",
    "        words.extend(tokens)\n",
    "        # add document in corpus\n",
    "        document.append((tokens,intent['intent']))\n",
    "        lemmatized_tokens = [lemmatizer.lemmatize(token) for token in tokens] # lemmatize tokens\n",
    "        filtered_tokens = [token for token in lemmatized_tokens if token not in stop_words] # Remove stop words\n",
    "        tokenized_data.append(filtered_tokens)\n",
    "\n",
    "# Remove duplicate words \n",
    "for i in range(len(tokenized_data)):\n",
    "    tokenized_data[i] = sorted(list(set(tokenized_data[i])))\n",
    "\n",
    "print(tokenized_data)\n",
    "    "
   ]
  },
  {
   "cell_type": "code",
   "execution_count": 9,
   "id": "00f972af-35f7-47c0-a0b0-37ec6f599e82",
   "metadata": {},
   "outputs": [
    {
     "ename": "IndexError",
     "evalue": "too many indices for array: array is 1-dimensional, but 2 were indexed",
     "output_type": "error",
     "traceback": [
      "\u001b[0;31m---------------------------------------------------------------------------\u001b[0m",
      "\u001b[0;31mIndexError\u001b[0m                                Traceback (most recent call last)",
      "Cell \u001b[0;32mIn[9], line 22\u001b[0m\n\u001b[1;32m     19\u001b[0m training \u001b[38;5;241m=\u001b[39m np\u001b[38;5;241m.\u001b[39marray(training)\n\u001b[1;32m     21\u001b[0m \u001b[38;5;66;03m# separate features and lables\u001b[39;00m\n\u001b[0;32m---> 22\u001b[0m train_x \u001b[38;5;241m=\u001b[39m \u001b[38;5;28mlist\u001b[39m(\u001b[43mtraining\u001b[49m\u001b[43m[\u001b[49m\u001b[43m:\u001b[49m\u001b[43m,\u001b[49m\u001b[38;5;241;43m0\u001b[39;49m\u001b[43m]\u001b[49m)\n\u001b[1;32m     23\u001b[0m train_y \u001b[38;5;241m=\u001b[39m \u001b[38;5;28mlist\u001b[39m(training[:,\u001b[38;5;241m1\u001b[39m])\n",
      "\u001b[0;31mIndexError\u001b[0m: too many indices for array: array is 1-dimensional, but 2 were indexed"
     ]
    }
   ],
   "source": [
    "# training and testing data\n",
    "training = []\n",
    "output_empty = 0 * len(tokenized_data)\n",
    "\n",
    "for doc in documents:\n",
    "    bag = []\n",
    "    patter_words = doc[0]\n",
    "    pattern_words = [lemmatizer.lemmatize(word.lower() for word in pattern_words )]\n",
    "\n",
    "    for w in words:\n",
    "        bag.append(1) if w in patter_words else bag.append(0)\n",
    "\n",
    "    output_row = list(output_empty)\n",
    "    output_row[classes.index(doc[1])] = 1\n",
    "    training.append([bag,output_row])\n",
    "\n",
    "# shuffle and convert it to numpy array\n",
    "random.shuffle(training)\n",
    "training = np.array(training)\n",
    "\n",
    "\n",
    "# separate features and lables\n",
    "train_x = list(training[:,0])\n",
    "train_y = list(training[:,1])\n",
    "\n",
    "                     "
   ]
  },
  {
   "cell_type": "code",
   "execution_count": null,
   "id": "0be0aa08-3412-4d41-9ce5-1ba0ada1e286",
   "metadata": {},
   "outputs": [],
   "source": [
    "#build the model\n",
    "\n",
    "model = Sequential()\n",
    "\n",
    "model.add(Dense(128, input_shape=(len(train_x[0]),), activation='relu'))\n",
    "\n",
    "model.add(Dropout(0.5))\n",
    "\n",
    "model.add(Dense(64, activation='relu'))\n",
    "\n",
    "model.add(Dropout(0.5))\n",
    "\n",
    "model.add(Dense(len(train_y[0]), activation='softmax'))\n",
    "\n",
    "# Compile the model\n",
    "\n",
    "sgd = SGD(lr=0.01, decay=1e-6, momentum=0.9, nesterov=True)\n",
    "\n",
    "model.compile(loss='categorical_crossentropy', optimizer=sgd, metrics=['accuracy'])\n",
    "\n",
    "# Train the model\n",
    "\n",
    "model.fit(np.array(train_x), np.array(train_y), epochs=200, batch_size=5, verbose=1)\n",
    "\n",
    "# Save the model\n",
    "\n",
    "model.save('chatbot_model.h5')"
   ]
  }
 ],
 "metadata": {
  "kernelspec": {
   "display_name": "Python 3 (ipykernel)",
   "language": "python",
   "name": "python3"
  },
  "language_info": {
   "codemirror_mode": {
    "name": "ipython",
    "version": 3
   },
   "file_extension": ".py",
   "mimetype": "text/x-python",
   "name": "python",
   "nbconvert_exporter": "python",
   "pygments_lexer": "ipython3",
   "version": "3.10.12"
  }
 },
 "nbformat": 4,
 "nbformat_minor": 5
}
