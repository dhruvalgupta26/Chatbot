{
 "cells": [
  {
   "cell_type": "code",
   "execution_count": 1,
   "id": "72d57de9-c2ae-42a3-b65b-d8ae59e1c58c",
   "metadata": {},
   "outputs": [
    {
     "name": "stdout",
     "output_type": "stream",
     "text": [
      "Defaulting to user installation because normal site-packages is not writeable\n",
      "Requirement already satisfied: opencv-python in /home/asmita/.local/lib/python3.10/site-packages (4.9.0.80)\n",
      "Requirement already satisfied: numpy>=1.17.0 in /home/asmita/.local/lib/python3.10/site-packages (from opencv-python) (1.26.4)\n",
      "Note: you may need to restart the kernel to use updated packages.\n"
     ]
    }
   ],
   "source": [
    "pip install opencv-python"
   ]
  },
  {
   "cell_type": "code",
   "execution_count": 1,
   "id": "c7809ae8-8b27-4969-9ffa-7185b0b78e5b",
   "metadata": {},
   "outputs": [
    {
     "name": "stdout",
     "output_type": "stream",
     "text": [
      "height of the image is 735 & widht is 1100.\n"
     ]
    }
   ],
   "source": [
    "#Reading an image\n",
    "\n",
    "#importing cv2 module from open-cv library\n",
    "import cv2\n",
    "\n",
    "#reading image using imread() function\n",
    "img = cv2.imread('road.jpg')\n",
    "\n",
    "#extracting height and width of the image\n",
    "h,w = img.shape[:2]\n",
    "print(\"height of the image is {} & widht is {}.\".format(h,w)) "
   ]
  },
  {
   "cell_type": "code",
   "execution_count": 2,
   "id": "acd89507-bb49-4f00-bebf-a478f2550305",
   "metadata": {},
   "outputs": [
    {
     "name": "stdout",
     "output_type": "stream",
     "text": [
      "R= 239 , G=200 ,B=157\n"
     ]
    }
   ],
   "source": [
    "# extracting rgb values of a pixel\n",
    "\n",
    "# here we have randomly passed a pixel \n",
    "(B, G, R) = img[100,100]\n",
    "\n",
    "# displaying the pixel values\n",
    "print(\"R= {} , G={} ,B={}\".format(R,G,B))"
   ]
  },
  {
   "cell_type": "code",
   "execution_count": null,
   "id": "d73792a2-ecf1-4a95-ae72-f9147db7d6cf",
   "metadata": {},
   "outputs": [],
   "source": [
    "# # Extracting the region of interest\n",
    "# # we will extract the region of interest by slicing the pixels of the image\n",
    "roi = img[100:500, 200:700]\n",
    "cv2.imshow(\"ROI\", roi)\n",
    "cv2.waitKey(0)"
   ]
  },
  {
   "cell_type": "code",
   "execution_count": null,
   "id": "f3e6c24b-5d36-424e-a797-46f012e3109c",
   "metadata": {},
   "outputs": [],
   "source": [
    "# resizing the image takes two params image and dimension\n",
    "resized_img = cv2.resize(img,(500,500))\n",
    "cv2.imshow(\"resized image\",resized_img)\n",
    "cv2.waitkey(0)"
   ]
  },
  {
   "cell_type": "code",
   "execution_count": null,
   "id": "ea980552-836d-4c68-a007-b11298913684",
   "metadata": {},
   "outputs": [],
   "source": [
    "# calculating the ratio \n",
    "ratio = 800/w\n",
    "\n",
    "# creating a tuple containing width and height\n",
    "dim = (800, int(h*ratio))\n",
    "\n",
    "#resizing the image \n",
    "resize_aspect = cv2.resize(img,dim)\n",
    "cv2.imshow(\"RESIZED IMAGE\",resize_aspect)\n",
    "cv2.waitKey(0)"
   ]
  },
  {
   "cell_type": "code",
   "execution_count": 3,
   "id": "88069b6c-5267-4579-8437-6bcbbfc87149",
   "metadata": {},
   "outputs": [],
   "source": [
    "output = img.copy()\n",
    "\n",
    "# using rectange method to create a rectangle\n",
    "rect = cv2.rectangle(output,(1000,700), (600,400), (0,255,0),2)"
   ]
  },
  {
   "cell_type": "code",
   "execution_count": 4,
   "id": "867648bb-8561-4a06-a6f0-cfef57bb049e",
   "metadata": {},
   "outputs": [
    {
     "data": {
      "text/plain": [
       "233"
      ]
     },
     "execution_count": 4,
     "metadata": {},
     "output_type": "execute_result"
    }
   ],
   "source": [
    "cv2.imshow(\"image with rect\" ,rect)\n",
    "cv2.waitKey(0)"
   ]
  },
  {
   "cell_type": "code",
   "execution_count": 6,
   "id": "f981bcc0-e2ae-4e7a-bb82-3bdb8e817af1",
   "metadata": {},
   "outputs": [
    {
     "data": {
      "text/plain": [
       "233"
      ]
     },
     "execution_count": 6,
     "metadata": {},
     "output_type": "execute_result"
    }
   ],
   "source": [
    "output2 = img.copy()\n",
    "text = cv2.putText(output2,'oPenCv', (500,500),cv2.FONT_HERSHEY_SIMPLEX,4,(0,0,255),2)\n",
    "cv2.imshow('img with text',text)\n",
    "cv2.waitKey(0)"
   ]
  },
  {
   "cell_type": "code",
   "execution_count": null,
   "id": "418a08c4-9dab-4e14-82a1-3ef89565ee92",
   "metadata": {},
   "outputs": [],
   "source": []
  }
 ],
 "metadata": {
  "kernelspec": {
   "display_name": "Python 3 (ipykernel)",
   "language": "python",
   "name": "python3"
  },
  "language_info": {
   "codemirror_mode": {
    "name": "ipython",
    "version": 3
   },
   "file_extension": ".py",
   "mimetype": "text/x-python",
   "name": "python",
   "nbconvert_exporter": "python",
   "pygments_lexer": "ipython3",
   "version": "3.10.12"
  }
 },
 "nbformat": 4,
 "nbformat_minor": 5
}
